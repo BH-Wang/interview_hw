{
 "cells": [
  {
   "cell_type": "code",
   "execution_count": 1,
   "id": "9ce3c8a3-311c-4433-9753-acf956c2ff56",
   "metadata": {},
   "outputs": [],
   "source": [
    "import requests\n",
    "import re\n",
    "from bs4 import BeautifulSoup\n",
    "import os\n",
    "import threading\n",
    "import time"
   ]
  },
  {
   "cell_type": "code",
   "execution_count": 2,
   "id": "972ec3b4-3009-40e5-aa3d-ff4a7f0480ae",
   "metadata": {},
   "outputs": [],
   "source": [
    "pattern = re.compile('\\s*')"
   ]
  },
  {
   "cell_type": "code",
   "execution_count": 3,
   "id": "13f3a458-a788-4980-9bb4-386b8e2b1e04",
   "metadata": {},
   "outputs": [],
   "source": [
    "def give_MGyear_2_responce(MG_year):\n",
    "    year = 1911 + MG_year\n",
    "    url = 'https://www.ceec.edu.tw/xmfile?xsmsid=0J052424829869345634'\n",
    "    data = {\n",
    "        '__RequestVerificationToken': '-lfI9abPMDVb6eACo_9WXhCIiZwGR4GeCHlw1wKW7lG8z7oQsj_74cpoWZYSk5JF2qvYanNxR_WB5vIZAmI3bA6Zz_AED2dI_YSfuQhSpC41',\n",
    "        'Annaul': f'{year}',\n",
    "    }\n",
    "    headers = {\n",
    "        'Cookie': '__RequestVerificationToken=_l0MnYxqpEVljEZM61zwB_Zr0B6SmvCjARGNAjgz1op0ibIiCZSuAdQbo_jgJKGTcFEBN9fZPOHk0Diy3iIO6i83uueLhY3EfE4x1A4Nzqg1; FSize=M; _ga=GA1.3.1420122771.1644909938; _gid=GA1.3.114032808.1644909938; TS01a20b7e=011a5189c9c84c3c9e7d42579632fc7a307209e8b6fc96431d415582a1403e7a62d6afed4224662c62a33b1f0864a3e7a868a8a417948275b148cd2e72f31fd1cd13d57118; _gat=1',\n",
    "        'Origin': 'https://www.ceec.edu.tw',\n",
    "        }\n",
    "    try:\n",
    "        response = requests.post(url,data=data,headers=headers)\n",
    "        print(f'{MG_year}\\t{response.status_code}')\n",
    "        return response\n",
    "    except Exception as e:\n",
    "        print(e)"
   ]
  },
  {
   "cell_type": "code",
   "execution_count": 4,
   "id": "7e35a048-16ad-4f2d-8d48-33d1db92d872",
   "metadata": {
    "tags": []
   },
   "outputs": [
    {
     "name": "stdout",
     "output_type": "stream",
     "text": [
      "83\t200\n"
     ]
    }
   ],
   "source": [
    "response = give_MGyear_2_responce(83)"
   ]
  },
  {
   "cell_type": "code",
   "execution_count": 5,
   "id": "9aea5ff6-12a3-4d7a-8dce-d12fc7050d39",
   "metadata": {},
   "outputs": [],
   "source": [
    "bsobj = BeautifulSoup(response.text) # 解析\n",
    "table = bsobj.find('table',attrs={'class':'rwdTable'}) # 取得 表格"
   ]
  },
  {
   "cell_type": "code",
   "execution_count": null,
   "id": "73d308c5-5840-4e99-bccd-ac7117906741",
   "metadata": {},
   "outputs": [],
   "source": []
  },
  {
   "cell_type": "code",
   "execution_count": 6,
   "id": "d9536ec8-36c4-4129-b1b1-1c4bbe07466b",
   "metadata": {},
   "outputs": [],
   "source": [
    "def get_attrs(exam_class_set, exam_class_name, MG_year): # 對表格中的考科的一個下載按鈕取出\"連結\"、\"檔名\"\n",
    "    # 回傳連結與將要儲存的檔案位置\n",
    "    website = 'https://www.ceec.edu.tw'\n",
    "    href = exam_class_set.attrs['href']\n",
    "    if website not in href:\n",
    "        href=website+href\n",
    "    path = os.path.join(str(MG_year),exam_class_name, exam_class_set.attrs['title']+'.pdf')\n",
    "    return [href,path,]"
   ]
  },
  {
   "cell_type": "code",
   "execution_count": 7,
   "id": "00dc848f-9658-4309-9bbc-7bfc3133711c",
   "metadata": {
    "tags": []
   },
   "outputs": [],
   "source": [
    "def one_year_table2download_dict(table,MG_year):\n",
    "    # exam_class: 表格中的一個考科、 wanted: 要下載的元素\n",
    "    one_year_need_download = {}\n",
    "    for exam_class in table.find_all('tr')[1:]: \n",
    "        wanted = [exam_class.find_all('a')[0], \n",
    "                  exam_class.find_all('a')[2]]\n",
    "        exam_class_name = pattern.sub('',exam_class.find('td',attrs={'class':'title'}).text) # 考科資料夾名稱\n",
    "        exam_class_download_list = [get_attrs(i, exam_class_name, MG_year) for i in wanted]\n",
    "        one_year_need_download.update({exam_class_name: exam_class_download_list})\n",
    "    return one_year_need_download"
   ]
  },
  {
   "cell_type": "code",
   "execution_count": 8,
   "id": "605f83c8-8630-4ff6-89be-a29de28b191c",
   "metadata": {},
   "outputs": [],
   "source": [
    "if not os.path.isdir('download'):\n",
    "    os.mkdir('download')\n",
    "for MG_year in range(83, 110):\n",
    "    dir_path = os.path.join('download', str(MG_year))\n",
    "    if not os.path.isdir(dir_path):\n",
    "        os.mkdir(dir_path)"
   ]
  },
  {
   "cell_type": "code",
   "execution_count": 9,
   "id": "6c4483c9-6550-4e4d-a658-1024fa83f4a5",
   "metadata": {},
   "outputs": [],
   "source": [
    "def give_MGyear_get_download_list(MG_year):\n",
    "    response = give_MGyear_2_responce(MG_year)\n",
    "    bsobj = BeautifulSoup(response.text) # 解析\n",
    "    table = bsobj.find('table',attrs={'class':'rwdTable'}) # 取得 表格\n",
    "    one_year_need_download = one_year_table2download_dict(table, MG_year)\n",
    "    download_list = []\n",
    "    for exam_class_name in one_year_need_download:\n",
    "        download_list+=(one_year_need_download[exam_class_name]) # 每個元素都是[url, file path]\n",
    "    return download_list"
   ]
  },
  {
   "cell_type": "code",
   "execution_count": 10,
   "id": "573f017d-a700-4084-bbf6-9a58bb26f801",
   "metadata": {},
   "outputs": [],
   "source": [
    "def download_and_save(url, save_path):\n",
    "    response = requests.get(url)\n",
    "    save_path = os.path.join('download' ,save_path) # download\\\\110\\\\110學年度學科能力測驗－自然\\\\110學測自然答案.pdf\n",
    "    mother_dir = os.path.join(*save_path.split('\\\\')[:-1]) # download\\\\110\\\\110學年度學科能力測驗－自然\n",
    "    if not os.path.isdir(mother_dir):\n",
    "        os.mkdir(mother_dir)\n",
    "    with open(save_path, 'wb') as f:\n",
    "        f.write(response.content)"
   ]
  },
  {
   "cell_type": "code",
   "execution_count": 11,
   "id": "f3f955e3-8e28-44b3-a15f-be16e3693a21",
   "metadata": {},
   "outputs": [],
   "source": [
    "def given_MG_year_download_save(MG_year):\n",
    "    download_list = give_MGyear_get_download_list(MG_year)\n",
    "    for url, save_path in download_list:\n",
    "        download_and_save(url, save_path)"
   ]
  },
  {
   "cell_type": "code",
   "execution_count": 12,
   "id": "f16e34d2-412e-49f9-a1c7-85b3d23c3128",
   "metadata": {},
   "outputs": [],
   "source": [
    "class Thread4Year(threading.Thread):\n",
    "    def __init__(self,func,args=()):\n",
    "        super(Thread4Year,self).__init__()\n",
    "        self.func = func\n",
    "        self.args = args\n",
    "    def run(self):\n",
    "        self.result = self.func(*self.args)\n",
    "    def get_result(self):\n",
    "        try:\n",
    "            return self.result\n",
    "        except Exception:\n",
    "            return None"
   ]
  },
  {
   "cell_type": "code",
   "execution_count": 13,
   "id": "b4b3678c-d320-4b24-9221-a42ba41cd224",
   "metadata": {},
   "outputs": [],
   "source": [
    "threads_list = [Thread4Year(given_MG_year_download_save, (i,)) for i in range(83,110)]"
   ]
  },
  {
   "cell_type": "code",
   "execution_count": 15,
   "id": "b35c4422-9cfc-49ed-abf1-5d68879b00ea",
   "metadata": {},
   "outputs": [
    {
     "name": "stdout",
     "output_type": "stream",
     "text": [
      "83\t200\n",
      "87\t200\n",
      "88\t200\n",
      "84\t200\n",
      "90\t200\n",
      "85\t200\n",
      "86\t200\n",
      "91\t200\n",
      "94\t200\n",
      "101\t200\n",
      "97\t200\n",
      "93\t200\n",
      "98\t200\n",
      "102\t200\n",
      "89\t200\n",
      "106\t200\n",
      "104\t200\n",
      "96\t200\n",
      "100\t200\n",
      "95\t200\n",
      "105\t200\n",
      "99\t200\n",
      "92\t200\n",
      "107\t200\n",
      "108\t200\n",
      "109\t200\n",
      "103\t200\n",
      "Cost 18.37 seconds\n"
     ]
    }
   ],
   "source": [
    "start = time.time()\n",
    "for thread in threads_list:\n",
    "    thread.start()\n",
    "for thread in threads_list:\n",
    "    thread.join() \n",
    "end = time.time()\n",
    "print(f'Cost {end-start:.2f} seconds')"
   ]
  },
  {
   "cell_type": "code",
   "execution_count": null,
   "id": "7a91f77b-9a6b-4a98-a0e3-1e7456ebd427",
   "metadata": {},
   "outputs": [],
   "source": []
  }
 ],
 "metadata": {
  "kernelspec": {
   "display_name": "Python 3 (ipykernel)",
   "language": "python",
   "name": "python3"
  },
  "language_info": {
   "codemirror_mode": {
    "name": "ipython",
    "version": 3
   },
   "file_extension": ".py",
   "mimetype": "text/x-python",
   "name": "python",
   "nbconvert_exporter": "python",
   "pygments_lexer": "ipython3",
   "version": "3.9.9"
  }
 },
 "nbformat": 4,
 "nbformat_minor": 5
}
