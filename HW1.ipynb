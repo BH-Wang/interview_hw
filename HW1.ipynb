{
 "cells": [
  {
   "cell_type": "code",
   "execution_count": 2,
   "id": "5d85b9d5-5805-4071-90c9-1b0ef3ae8923",
   "metadata": {},
   "outputs": [],
   "source": [
    "from selenium import webdriver\n",
    "from selenium.webdriver.support.ui import Select\n",
    "import time\n",
    "from bs4 import BeautifulSoup\n",
    "import re\n",
    "import mysql.connector"
   ]
  },
  {
   "cell_type": "code",
   "execution_count": 3,
   "id": "6ea468bf-7d50-4ede-b7ff-cb202cfaab74",
   "metadata": {},
   "outputs": [
    {
     "name": "stderr",
     "output_type": "stream",
     "text": [
      "C:\\Users\\ace19\\AppData\\Local\\Temp/ipykernel_15352/3042824412.py:1: DeprecationWarning: executable_path has been deprecated, please pass in a Service object\n",
      "  browser = webdriver.Edge('C:/Users/ace19/Documents/edgedriver_win32_ver98/msedgedriver.exe') # my version 98.0.1108.50\n"
     ]
    }
   ],
   "source": [
    "browser = webdriver.Edge('C:/Users/ace19/Documents/edgedriver_win32_ver98/msedgedriver.exe') # my version 98.0.1108.50\n",
    "browser.get('http://www.kingbus.com.tw/ticketRoute.php')"
   ]
  },
  {
   "cell_type": "code",
   "execution_count": 4,
   "id": "71d93b1f-cd2e-4494-b1dc-316f4e99736e",
   "metadata": {},
   "outputs": [],
   "source": [
    "start = Select(browser.find_element(by='xpath',value='//*[@id=\"area\"]'))\n",
    "start.select_by_value('台北')\n",
    "time.sleep(0.1)\n",
    "up = Select(browser.find_element(by='xpath',value='//*[@id=\"origin\"]'))\n",
    "up.select_by_value('臺北轉運站')\n",
    "time.sleep(0.1)\n",
    "down = Select(browser.find_element(by='xpath',value='//*[@id=\"destination\"]'))\n",
    "down.select_by_value('朝馬轉運站')\n",
    "time.sleep(0.1)"
   ]
  },
  {
   "cell_type": "code",
   "execution_count": 5,
   "id": "828f31a3-bb81-4c10-b88f-e5d10058a04e",
   "metadata": {},
   "outputs": [],
   "source": [
    "search_buttom = browser.find_element(by='xpath', value='//*[@id=\"wrapper\"]/div[2]/div/div[2]/input[1]')\n",
    "search_buttom.click()"
   ]
  },
  {
   "cell_type": "code",
   "execution_count": 6,
   "id": "c1cd686b-6738-4d8c-ac49-066ec1e2b965",
   "metadata": {},
   "outputs": [],
   "source": [
    "bsobj = BeautifulSoup(browser.page_source)"
   ]
  },
  {
   "cell_type": "code",
   "execution_count": 7,
   "id": "efefa5dc-f983-4f3f-bd0f-e751c8e4c3dc",
   "metadata": {
    "tags": []
   },
   "outputs": [],
   "source": [
    "parent_myobj = bsobj.find(name='ul',attrs={'class':'routeData'})\n",
    "myobj = parent_myobj.find_all('a')"
   ]
  },
  {
   "cell_type": "code",
   "execution_count": 8,
   "id": "d8cc47a5-7e3f-4cd0-a272-9e2b3eecfc20",
   "metadata": {},
   "outputs": [],
   "source": [
    "del_pattern = re.compile('\\s*')"
   ]
  },
  {
   "cell_type": "code",
   "execution_count": 9,
   "id": "d5dab9df-5d2d-4426-8759-81b78572f8ad",
   "metadata": {},
   "outputs": [],
   "source": [
    "myobj = [del_pattern.sub('',i.text) for i in myobj]"
   ]
  },
  {
   "cell_type": "code",
   "execution_count": 10,
   "id": "69f77469-2900-4703-9828-db2417a6e7aa",
   "metadata": {
    "tags": []
   },
   "outputs": [
    {
     "name": "stdout",
     "output_type": "stream",
     "text": [
      "('【1827】臺北－朝馬－臺中', '[臺北轉運站到國光客運臺中車站]')\n",
      "('【1831】臺北－南投', '[臺北轉運站到南投站]')\n",
      "('【1832】臺北－埔里', '[臺北轉運站到埔里站](台14線)')\n",
      "('【1832A】臺北－埔里', '[臺北轉運站到埔里站](國六)')\n",
      "('【1832B】臺北－普台高中[經國道6號]', '[臺北轉運站到普台高中](國六、埔里)')\n",
      "('【1837】臺北－臺南', '[臺北轉運站到臺南轉運站](林口朝馬)')\n",
      "('【1837】臺北－臺南(不下林口)', '[臺北轉運站到臺南轉運站](朝馬)')\n",
      "('【1838】臺北－高雄', '[臺北轉運站到高雄站](林口朝馬)')\n",
      "('【1838】臺北—高雄(不下林口)', '[臺北轉運站到高雄站](朝馬)')\n",
      "('【1839】臺北－屏東', '[臺北轉運站到麟洛站(屏東)](朝馬)')\n",
      "('【1839】臺北－屏東(縮駛屏東轉運站)', '[臺北轉運站到屏東轉運站](朝馬)')\n"
     ]
    }
   ],
   "source": [
    "pattern = re.compile('【.*\\[')\n",
    "result = []\n",
    "for i in myobj:\n",
    "    t = pattern.search(i)\n",
    "    start, end = t.span()\n",
    "    first_str = i[start:end-1]\n",
    "    second_str = i[end-1:]\n",
    "    one_item = (first_str, second_str)\n",
    "    print(one_item)\n",
    "    result.append(one_item)"
   ]
  },
  {
   "cell_type": "code",
   "execution_count": 11,
   "id": "8b713d6d-60d6-4cab-8402-7535371aecf1",
   "metadata": {},
   "outputs": [],
   "source": [
    "browser.close()"
   ]
  },
  {
   "cell_type": "code",
   "execution_count": 12,
   "id": "501af5b5-d533-4506-a3db-7f57c82c768b",
   "metadata": {},
   "outputs": [],
   "source": [
    "import pandas as pd"
   ]
  },
  {
   "cell_type": "code",
   "execution_count": 13,
   "id": "db8ef2df-ee4e-4e05-9dc7-a600a6c6d5f9",
   "metadata": {},
   "outputs": [],
   "source": [
    "df = pd.DataFrame(result, columns=['route', 'desciipition'])"
   ]
  },
  {
   "cell_type": "code",
   "execution_count": 14,
   "id": "67fbeed7-3c30-4a1c-a2e1-cc342790de14",
   "metadata": {},
   "outputs": [],
   "source": [
    "df.to_csv('route.csv',sep='\\t', encoding='utf-8', index=False)"
   ]
  },
  {
   "cell_type": "markdown",
   "id": "f970485e-1c4a-474f-b40b-ac30fe425e1c",
   "metadata": {},
   "source": [
    "# csv to sql"
   ]
  },
  {
   "cell_type": "code",
   "execution_count": 15,
   "id": "0737dfe7-9b63-4a66-8fdc-1617e11e84ab",
   "metadata": {},
   "outputs": [],
   "source": [
    "connection = mysql.connector.connect(host='localhost',\n",
    "                                       port='3306',\n",
    "                                       user='root',\n",
    "                                       password='271828',\n",
    "                                       buffered = True, )"
   ]
  },
  {
   "cell_type": "code",
   "execution_count": 16,
   "id": "355c3e3b-3d24-4f5d-9e87-1e26d81405a6",
   "metadata": {},
   "outputs": [],
   "source": [
    "cursor = connection.cursor()"
   ]
  },
  {
   "cell_type": "code",
   "execution_count": 18,
   "id": "2163a889-07f3-4591-918f-48a335bb2c76",
   "metadata": {},
   "outputs": [],
   "source": [
    "# cursor.execute('CREATE DATABASE `route`;')\n",
    "cursor.execute('SHOW DATABASES;')"
   ]
  },
  {
   "cell_type": "code",
   "execution_count": 21,
   "id": "d48b15ba-bd15-4289-8b3e-cb67d9374cd3",
   "metadata": {
    "tags": []
   },
   "outputs": [],
   "source": [
    "cursor.execute('USE `route`;')\n",
    "cursor.execute('''\n",
    "                CREATE TABLE route_list (\n",
    "                    `ID` INT PRIMARY KEY, \n",
    "                    `route` VARCHAR(30) ,\n",
    "                    `desciipition` VARCHAR(30)\n",
    "                    )\n",
    "               ''')"
   ]
  },
  {
   "cell_type": "code",
   "execution_count": 35,
   "id": "06af7871-7d87-4532-ad47-3b1e54f78c18",
   "metadata": {},
   "outputs": [],
   "source": [
    "for idx, row in df.iterrows():\n",
    "    route, desciipition = row\n",
    "    sql = \"INSERT INTO `route_list` (ID, route, desciipition) VALUES (%s, %s, %s)\"\n",
    "    val = (idx, route, desciipition)\n",
    "    cursor.execute(sql, val)"
   ]
  },
  {
   "cell_type": "code",
   "execution_count": 45,
   "id": "154bf388-24bc-4afe-ac8f-4a798930b94c",
   "metadata": {},
   "outputs": [
    {
     "name": "stdout",
     "output_type": "stream",
     "text": [
      "(0, '【1827】臺北－朝馬－臺中', '[臺北轉運站到國光客運臺中車站]')\n",
      "(1, '【1831】臺北－南投', '[臺北轉運站到南投站]')\n",
      "(2, '【1832】臺北－埔里', '[臺北轉運站到埔里站](台14線)')\n",
      "(3, '【1832A】臺北－埔里', '[臺北轉運站到埔里站](國六)')\n",
      "(4, '【1832B】臺北－普台高中[經國道6號]', '[臺北轉運站到普台高中](國六、埔里)')\n",
      "(5, '【1837】臺北－臺南', '[臺北轉運站到臺南轉運站](林口朝馬)')\n",
      "(6, '【1837】臺北－臺南(不下林口)', '[臺北轉運站到臺南轉運站](朝馬)')\n",
      "(7, '【1838】臺北－高雄', '[臺北轉運站到高雄站](林口朝馬)')\n",
      "(8, '【1838】臺北—高雄(不下林口)', '[臺北轉運站到高雄站](朝馬)')\n",
      "(9, '【1839】臺北－屏東', '[臺北轉運站到麟洛站(屏東)](朝馬)')\n",
      "(10, '【1839】臺北－屏東(縮駛屏東轉運站)', '[臺北轉運站到屏東轉運站](朝馬)')\n"
     ]
    }
   ],
   "source": [
    "cursor.execute(\"select * from route_list\")\n",
    "myresult = cursor.fetchall()\n",
    "\n",
    "for x in myresult:\n",
    "      print(x)"
   ]
  },
  {
   "cell_type": "code",
   "execution_count": 36,
   "id": "5cee11fd-ac17-470c-9275-01ac190e4dd1",
   "metadata": {},
   "outputs": [],
   "source": [
    "connection.commit()"
   ]
  },
  {
   "cell_type": "markdown",
   "id": "59e66668-7234-4f58-81c7-dee5879cd488",
   "metadata": {},
   "source": [
    "# 計數埔里在 route 的資料"
   ]
  },
  {
   "cell_type": "code",
   "execution_count": 37,
   "id": "b1b9a981-db69-4e39-a51c-6978a0b98fa9",
   "metadata": {},
   "outputs": [],
   "source": [
    "connection = mysql.connector.connect(host='localhost',\n",
    "                                       port='3306',\n",
    "                                       user='root',\n",
    "                                       password='271828',\n",
    "                                       buffered = True, )\n",
    "cursor = connection.cursor()"
   ]
  },
  {
   "cell_type": "code",
   "execution_count": 38,
   "id": "4c7fb8d1-3ac2-4bf5-a061-469e7758a614",
   "metadata": {},
   "outputs": [],
   "source": [
    "cursor.execute('USE `route`;')"
   ]
  },
  {
   "cell_type": "code",
   "execution_count": 43,
   "id": "673b42ea-804f-4ff0-ba8b-030aed0ba201",
   "metadata": {},
   "outputs": [],
   "source": [
    "cursor.execute(\"select count(*) from `route_list` where route like '%埔里%'\")"
   ]
  },
  {
   "cell_type": "code",
   "execution_count": 44,
   "id": "df8849eb-3c5f-4696-adc2-4ba29c945d3c",
   "metadata": {},
   "outputs": [
    {
     "name": "stdout",
     "output_type": "stream",
     "text": [
      "(2,)\n"
     ]
    }
   ],
   "source": [
    "myresult = cursor.fetchall()\n",
    "\n",
    "for x in myresult:\n",
    "      print(x)"
   ]
  },
  {
   "cell_type": "code",
   "execution_count": null,
   "id": "16eed2a6-f573-4c40-86a1-e1b8568af7cb",
   "metadata": {},
   "outputs": [],
   "source": []
  }
 ],
 "metadata": {
  "kernelspec": {
   "display_name": "Python 3 (ipykernel)",
   "language": "python",
   "name": "python3"
  },
  "language_info": {
   "codemirror_mode": {
    "name": "ipython",
    "version": 3
   },
   "file_extension": ".py",
   "mimetype": "text/x-python",
   "name": "python",
   "nbconvert_exporter": "python",
   "pygments_lexer": "ipython3",
   "version": "3.9.9"
  }
 },
 "nbformat": 4,
 "nbformat_minor": 5
}
